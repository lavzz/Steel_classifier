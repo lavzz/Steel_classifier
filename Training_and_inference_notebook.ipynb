{
 "cells": [
  {
   "cell_type": "code",
   "execution_count": 1,
   "metadata": {},
   "outputs": [
    {
     "name": "stderr",
     "output_type": "stream",
     "text": [
      "/Users/lavanyamanohar/anaconda2/lib/python2.7/site-packages/h5py/__init__.py:34: FutureWarning: Conversion of the second argument of issubdtype from `float` to `np.floating` is deprecated. In future, it will be treated as `np.float64 == np.dtype(float).type`.\n",
      "  from ._conv import register_converters as _register_converters\n"
     ]
    }
   ],
   "source": [
    "import tensorflow as tf"
   ]
  },
  {
   "cell_type": "code",
   "execution_count": 2,
   "metadata": {},
   "outputs": [
    {
     "name": "stdout",
     "output_type": "stream",
     "text": [
      "1.10.0\n"
     ]
    }
   ],
   "source": [
    "print(tf.__version__)"
   ]
  },
  {
   "cell_type": "code",
   "execution_count": 3,
   "metadata": {},
   "outputs": [
    {
     "name": "stderr",
     "output_type": "stream",
     "text": [
      "Using TensorFlow backend.\n"
     ]
    },
    {
     "name": "stdout",
     "output_type": "stream",
     "text": [
      "Found 1200 images belonging to 6 classes.\n",
      "10/10 [==============================] - 2s 180ms/step\n",
      "0\n",
      "10/10 [==============================] - 2s 175ms/step\n",
      "1\n",
      "10/10 [==============================] - 2s 183ms/step\n",
      "2\n",
      "10/10 [==============================] - 2s 177ms/step\n",
      "3\n",
      "10/10 [==============================] - 2s 188ms/step\n",
      "4\n",
      "10/10 [==============================] - 2s 172ms/step\n",
      "5\n",
      "10/10 [==============================] - 2s 170ms/step\n",
      "6\n",
      "10/10 [==============================] - 2s 170ms/step\n",
      "7\n",
      "10/10 [==============================] - 2s 171ms/step\n",
      "8\n",
      "10/10 [==============================] - 2s 171ms/step\n",
      "9\n",
      "10/10 [==============================] - 2s 173ms/step\n",
      "10\n",
      "10/10 [==============================] - 2s 184ms/step\n",
      "11\n",
      "10/10 [==============================] - 2s 177ms/step\n",
      "12\n",
      "10/10 [==============================] - 2s 186ms/step\n",
      "13\n",
      "10/10 [==============================] - 2s 198ms/step\n",
      "14\n",
      "10/10 [==============================] - 2s 185ms/step\n",
      "15\n",
      "10/10 [==============================] - 2s 187ms/step\n",
      "16\n",
      "10/10 [==============================] - 2s 175ms/step\n",
      "17\n",
      "10/10 [==============================] - 2s 172ms/step\n",
      "18\n",
      "10/10 [==============================] - 2s 171ms/step\n",
      "19\n",
      "10/10 [==============================] - 2s 171ms/step\n",
      "20\n",
      "10/10 [==============================] - 2s 181ms/step\n",
      "21\n",
      "10/10 [==============================] - 2s 185ms/step\n",
      "22\n",
      "10/10 [==============================] - 2s 190ms/step\n",
      "23\n",
      "10/10 [==============================] - 2s 168ms/step\n",
      "24\n",
      "10/10 [==============================] - 2s 169ms/step\n",
      "25\n",
      "10/10 [==============================] - 2s 167ms/step\n",
      "26\n",
      "10/10 [==============================] - 2s 191ms/step\n",
      "27\n",
      "10/10 [==============================] - 2s 175ms/step\n",
      "28\n",
      "10/10 [==============================] - 2s 176ms/step\n",
      "29\n",
      "10/10 [==============================] - 2s 191ms/step\n",
      "30\n",
      "10/10 [==============================] - 2s 180ms/step\n",
      "31\n",
      "10/10 [==============================] - 2s 173ms/step\n",
      "32\n",
      "10/10 [==============================] - 2s 171ms/step\n",
      "33\n",
      "10/10 [==============================] - 2s 182ms/step\n",
      "34\n",
      "10/10 [==============================] - 2s 170ms/step\n",
      "35\n",
      "10/10 [==============================] - 2s 168ms/step\n",
      "36\n",
      "10/10 [==============================] - 2s 168ms/step\n",
      "37\n",
      "10/10 [==============================] - 2s 167ms/step\n",
      "38\n",
      "10/10 [==============================] - 2s 167ms/step\n",
      "39\n",
      "10/10 [==============================] - 2s 170ms/step\n",
      "40\n",
      "10/10 [==============================] - 2s 168ms/step\n",
      "41\n",
      "10/10 [==============================] - 2s 169ms/step\n",
      "42\n",
      "10/10 [==============================] - 2s 169ms/step\n",
      "43\n",
      "10/10 [==============================] - 2s 169ms/step\n",
      "44\n",
      "10/10 [==============================] - 2s 183ms/step\n",
      "45\n",
      "10/10 [==============================] - 2s 180ms/step\n",
      "46\n",
      "10/10 [==============================] - 2s 178ms/step\n",
      "47\n",
      "10/10 [==============================] - 2s 192ms/step\n",
      "48\n",
      "10/10 [==============================] - 2s 175ms/step\n",
      "49\n",
      "10/10 [==============================] - 2s 194ms/step\n",
      "50\n",
      "10/10 [==============================] - 2s 187ms/step\n",
      "51\n",
      "10/10 [==============================] - 2s 185ms/step\n",
      "52\n",
      "10/10 [==============================] - 2s 177ms/step\n",
      "53\n",
      "10/10 [==============================] - 2s 206ms/step\n",
      "54\n",
      "10/10 [==============================] - 2s 186ms/step\n",
      "55\n",
      "10/10 [==============================] - 2s 191ms/step\n",
      "56\n",
      "10/10 [==============================] - 2s 194ms/step\n",
      "57\n",
      "10/10 [==============================] - 2s 187ms/step\n",
      "58\n",
      "10/10 [==============================] - 2s 186ms/step\n",
      "59\n",
      "10/10 [==============================] - 2s 181ms/step\n",
      "60\n",
      "10/10 [==============================] - 2s 168ms/step\n",
      "61\n",
      "10/10 [==============================] - 2s 178ms/step\n",
      "62\n",
      "10/10 [==============================] - 2s 182ms/step\n",
      "63\n",
      "10/10 [==============================] - 2s 192ms/step\n",
      "64\n",
      "10/10 [==============================] - 2s 175ms/step\n",
      "65\n",
      "10/10 [==============================] - 2s 168ms/step\n",
      "66\n",
      "10/10 [==============================] - 2s 167ms/step\n",
      "67\n",
      "10/10 [==============================] - 2s 167ms/step\n",
      "68\n",
      "10/10 [==============================] - 2s 167ms/step\n",
      "69\n",
      "10/10 [==============================] - 2s 168ms/step\n",
      "70\n",
      "10/10 [==============================] - 2s 167ms/step\n",
      "71\n",
      "10/10 [==============================] - 2s 168ms/step\n",
      "72\n",
      "10/10 [==============================] - 2s 168ms/step\n",
      "73\n",
      "10/10 [==============================] - 2s 167ms/step\n",
      "74\n",
      "10/10 [==============================] - 2s 167ms/step\n",
      "75\n",
      "10/10 [==============================] - 2s 168ms/step\n",
      "76\n",
      "10/10 [==============================] - 2s 166ms/step\n",
      "77\n",
      "10/10 [==============================] - 2s 168ms/step\n",
      "78\n",
      "10/10 [==============================] - 2s 166ms/step\n",
      "79\n",
      "10/10 [==============================] - 2s 168ms/step\n",
      "80\n",
      "10/10 [==============================] - 2s 167ms/step\n",
      "81\n",
      "10/10 [==============================] - 2s 167ms/step\n",
      "82\n",
      "10/10 [==============================] - 2s 167ms/step\n",
      "83\n",
      "10/10 [==============================] - 2s 168ms/step\n",
      "84\n",
      "10/10 [==============================] - 2s 168ms/step\n",
      "85\n",
      "10/10 [==============================] - 2s 167ms/step\n",
      "86\n",
      "10/10 [==============================] - 2s 167ms/step\n",
      "87\n",
      "10/10 [==============================] - 2s 167ms/step\n",
      "88\n",
      "10/10 [==============================] - 2s 167ms/step\n",
      "89\n",
      "10/10 [==============================] - 2s 168ms/step\n",
      "90\n",
      "10/10 [==============================] - 2s 167ms/step\n",
      "91\n",
      "10/10 [==============================] - 2s 167ms/step\n",
      "92\n",
      "10/10 [==============================] - 2s 167ms/step\n",
      "93\n",
      "10/10 [==============================] - 2s 167ms/step\n",
      "94\n",
      "10/10 [==============================] - 2s 167ms/step\n",
      "95\n",
      "10/10 [==============================] - 2s 168ms/step\n",
      "96\n",
      "10/10 [==============================] - 2s 169ms/step\n",
      "97\n",
      "10/10 [==============================] - 2s 167ms/step\n",
      "98\n",
      "10/10 [==============================] - 2s 167ms/step\n",
      "99\n",
      "10/10 [==============================] - 2s 167ms/step\n",
      "100\n",
      "10/10 [==============================] - 2s 168ms/step\n",
      "101\n",
      "10/10 [==============================] - 2s 167ms/step\n",
      "102\n",
      "10/10 [==============================] - 2s 167ms/step\n",
      "103\n",
      "10/10 [==============================] - 2s 166ms/step\n",
      "104\n",
      "10/10 [==============================] - 2s 167ms/step\n",
      "105\n",
      "10/10 [==============================] - 2s 167ms/step\n",
      "106\n",
      "10/10 [==============================] - 2s 168ms/step\n",
      "107\n",
      "10/10 [==============================] - 2s 168ms/step\n",
      "108\n",
      "10/10 [==============================] - 2s 167ms/step\n",
      "109\n",
      "10/10 [==============================] - 2s 167ms/step\n",
      "110\n",
      "10/10 [==============================] - 2s 167ms/step\n",
      "111\n",
      "10/10 [==============================] - 2s 167ms/step\n",
      "112\n",
      "10/10 [==============================] - 2s 167ms/step\n",
      "113\n",
      "10/10 [==============================] - 2s 169ms/step\n",
      "114\n",
      "10/10 [==============================] - 2s 168ms/step\n",
      "115\n",
      "10/10 [==============================] - 2s 167ms/step\n",
      "116\n",
      "10/10 [==============================] - 2s 166ms/step\n",
      "117\n",
      "10/10 [==============================] - 2s 171ms/step\n",
      "118\n",
      "10/10 [==============================] - 2s 170ms/step\n",
      "119\n",
      "Found 300 images belonging to 6 classes.\n",
      "10/10 [==============================] - 2s 168ms/step\n",
      "0\n",
      "10/10 [==============================] - 2s 170ms/step\n",
      "1\n",
      "10/10 [==============================] - 2s 167ms/step\n",
      "2\n",
      "10/10 [==============================] - 2s 168ms/step\n",
      "3\n",
      "10/10 [==============================] - 2s 168ms/step\n",
      "4\n",
      "10/10 [==============================] - 2s 167ms/step\n",
      "5\n",
      "10/10 [==============================] - 2s 167ms/step\n",
      "6\n",
      "10/10 [==============================] - 2s 168ms/step\n",
      "7\n",
      "10/10 [==============================] - 2s 168ms/step\n",
      "8\n",
      "10/10 [==============================] - 2s 169ms/step\n",
      "9\n",
      "10/10 [==============================] - 2s 170ms/step\n",
      "10\n",
      "10/10 [==============================] - 2s 168ms/step\n",
      "11\n",
      "10/10 [==============================] - 2s 167ms/step\n",
      "12\n",
      "10/10 [==============================] - 2s 167ms/step\n",
      "13\n",
      "10/10 [==============================] - 2s 166ms/step\n",
      "14\n",
      "10/10 [==============================] - 2s 168ms/step\n",
      "15\n",
      "10/10 [==============================] - 2s 167ms/step\n",
      "16\n",
      "10/10 [==============================] - 2s 167ms/step\n",
      "17\n",
      "10/10 [==============================] - 2s 167ms/step\n",
      "18\n",
      "10/10 [==============================] - 2s 167ms/step\n"
     ]
    },
    {
     "name": "stdout",
     "output_type": "stream",
     "text": [
      "19\n",
      "10/10 [==============================] - 2s 177ms/step\n",
      "20\n",
      "10/10 [==============================] - 2s 168ms/step\n",
      "21\n",
      "10/10 [==============================] - 2s 165ms/step\n",
      "22\n",
      "10/10 [==============================] - 2s 167ms/step\n",
      "23\n",
      "10/10 [==============================] - 2s 166ms/step\n",
      "24\n",
      "10/10 [==============================] - 2s 165ms/step\n",
      "25\n",
      "10/10 [==============================] - 2s 167ms/step\n",
      "26\n",
      "10/10 [==============================] - 2s 167ms/step\n",
      "27\n",
      "10/10 [==============================] - 2s 166ms/step\n",
      "28\n",
      "10/10 [==============================] - 2s 166ms/step\n",
      "29\n"
     ]
    }
   ],
   "source": [
    "\"\"\"\n",
    "we import the save_bottlenec_features script that generates our training data, and runs them on a VGG network once\n",
    "to learn the training and the validation features of the convolutional network (i.e. before the fully connected layers)\n",
    "\n",
    "\"\"\"\n",
    "\n",
    "\n",
    "\n",
    "import save_bottleneck_features"
   ]
  },
  {
   "cell_type": "code",
   "execution_count": 4,
   "metadata": {},
   "outputs": [
    {
     "name": "stdout",
     "output_type": "stream",
     "text": [
      "Train on 1200 samples, validate on 300 samples\n",
      "Epoch 1/10\n",
      "1200/1200 [==============================] - 6s 5ms/step - loss: 0.4763 - acc: 0.8292 - val_loss: 0.2093 - val_acc: 0.9300\n",
      "Epoch 2/10\n",
      "1200/1200 [==============================] - 4s 4ms/step - loss: 0.1269 - acc: 0.9617 - val_loss: 0.1658 - val_acc: 0.9533ss:\n",
      "Epoch 3/10\n",
      "1200/1200 [==============================] - 5s 4ms/step - loss: 0.0880 - acc: 0.9742 - val_loss: 0.1970 - val_acc: 0.9267\n",
      "Epoch 4/10\n",
      "1200/1200 [==============================] - 5s 4ms/step - loss: 0.0949 - acc: 0.9658 - val_loss: 0.1201 - val_acc: 0.9600\n",
      "Epoch 5/10\n",
      "1200/1200 [==============================] - 5s 4ms/step - loss: 0.0893 - acc: 0.9675 - val_loss: 0.1101 - val_acc: 0.9567\n",
      "Epoch 6/10\n",
      "1200/1200 [==============================] - 5s 4ms/step - loss: 0.0521 - acc: 0.9833 - val_loss: 0.1431 - val_acc: 0.9433\n",
      "Epoch 7/10\n",
      "1200/1200 [==============================] - 5s 4ms/step - loss: 0.0860 - acc: 0.9675 - val_loss: 0.2608 - val_acc: 0.9133\n",
      "Epoch 8/10\n",
      "1200/1200 [==============================] - 5s 4ms/step - loss: 0.0496 - acc: 0.9842 - val_loss: 0.1398 - val_acc: 0.9533\n",
      "Epoch 9/10\n",
      "1200/1200 [==============================] - 5s 4ms/step - loss: 0.0331 - acc: 0.9925 - val_loss: 0.1416 - val_acc: 0.9567\n",
      "Epoch 10/10\n",
      "1200/1200 [==============================] - 4s 4ms/step - loss: 0.0357 - acc: 0.9883 - val_loss: 0.1125 - val_acc: 0.9567\n"
     ]
    }
   ],
   "source": [
    "\"\"\"\n",
    "running the top_model script which loads the previously saved features and trains a fully connected \n",
    "model on top of it. Since its a fairly small model , run over 10 epochs, the whole thing runs on a CPU within \n",
    "5 minutes for a 92% validation accuracy...not too shabby!\n",
    "\n",
    "\"\"\"\n",
    "\n",
    "import top_model"
   ]
  },
  {
   "cell_type": "code",
   "execution_count": 112,
   "metadata": {
    "collapsed": true
   },
   "outputs": [],
   "source": [
    "\n",
    "\"\"\"\n",
    "Lets check out our model's predictions for some images in the test directory. To simplify this, lets define some helper\n",
    "functions like read_image which allows us to visualize and feed the right dimensions into our model. \n",
    "We also need to do a few imports that were not defined outside for visualization and manipulations in Keras \n",
    "\n",
    "\"\"\"\n",
    "\n",
    "\n",
    "import numpy as np \n",
    "\n",
    "import keras\n",
    "from keras.preprocessing.image import ImageDataGenerator, img_to_array, load_img \n",
    "from keras.models import Sequential \n",
    "from keras.preprocessing import image\n",
    "import matplotlib.pyplot as plt \n",
    "from scipy import misc\n",
    "%matplotlib inline\n",
    "\n",
    "\n",
    "def read_image(file_path):\n",
    "   image = load_img(file_path, target_size=(128, 128)) \n",
    "   image = img_to_array(image) \n",
    "   image = np.expand_dims(image, axis=0)\n",
    "   image /= 255. \n",
    "   return image"
   ]
  },
  {
   "cell_type": "code",
   "execution_count": 114,
   "metadata": {},
   "outputs": [
    {
     "data": {
      "text/plain": [
       "<matplotlib.image.AxesImage at 0x18293799d0>"
      ]
     },
     "execution_count": 114,
     "metadata": {},
     "output_type": "execute_result"
    },
    {
     "data": {
      "image/png": "[encoded data removed]",
      "text/plain": [
       "<matplotlib.figure.Figure at 0x182911c0d0>"
      ]
     },
     "metadata": {},
     "output_type": "display_data"
    }
   ],
   "source": [
    "## lets pull a random image from our test set...feel free to modify this to other image paths to see more results\n",
    "test_img_path = './data/test/In/In_204.bmp'\n",
    "test_img = misc.imread(test_img_path)\n",
    "plt.imshow(test_img)\n"
   ]
  },
  {
   "cell_type": "code",
   "execution_count": 115,
   "metadata": {},
   "outputs": [
    {
     "data": {
      "text/plain": [
       "(1, 128, 128, 3)"
      ]
     },
     "execution_count": 115,
     "metadata": {},
     "output_type": "execute_result"
    }
   ],
   "source": [
    "\"\"\"\n",
    "lets now transform this image in order to be able to feed it to our defined network. Remeber that we have 2 networks. \n",
    "The first is VGG16 which we used for transfer learning. this network defined for us within keras expects input image of size (128,128)\n",
    "our read_image function does this for us along with normalizing the scale etc. \n",
    "\n",
    "the second network which is our own defined CNN expects an input size that is the output of VGG16 without the top layer which is 4*4*512 = 8192\n",
    "and outputs class predictions across the 6 classes of steel surface \n",
    "\"\"\"\n",
    "\n",
    "image = read_image(test_img_path)\n",
    "##lets check the shape and make sure its (128, 128) \n",
    "image.shape\n"
   ]
  },
  {
   "cell_type": "code",
   "execution_count": 116,
   "metadata": {
    "collapsed": true
   },
   "outputs": [],
   "source": [
    "from keras.applications import VGG16"
   ]
  },
  {
   "cell_type": "code",
   "execution_count": 117,
   "metadata": {},
   "outputs": [],
   "source": [
    "input_shape = (128, 128,3) \n",
    "vgg_conv = VGG16(weights = 'imagenet', include_top = False, input_shape = input_shape)\n",
    "preds = vgg_conv.predict(image) \n"
   ]
  },
  {
   "cell_type": "code",
   "execution_count": 118,
   "metadata": {},
   "outputs": [
    {
     "data": {
      "text/plain": [
       "(1, 4, 4, 512)"
      ]
     },
     "execution_count": 118,
     "metadata": {},
     "output_type": "execute_result"
    }
   ],
   "source": [
    "## check that the output shape for single image is (4,4,512) \n",
    "preds.shape"
   ]
  },
  {
   "cell_type": "code",
   "execution_count": 119,
   "metadata": {
    "collapsed": true
   },
   "outputs": [],
   "source": [
    "##reshape to 8192 to enable prediction through our custom defined model \n",
    "\n",
    "model_input = np.reshape(preds, (1, 8192))"
   ]
  },
  {
   "cell_type": "code",
   "execution_count": 120,
   "metadata": {},
   "outputs": [
    {
     "data": {
      "text/plain": [
       "(1, 8192)"
      ]
     },
     "execution_count": 120,
     "metadata": {},
     "output_type": "execute_result"
    }
   ],
   "source": [
    "##check that the shape is indeep (1,8192)\n",
    "model_input.shape"
   ]
  },
  {
   "cell_type": "code",
   "execution_count": 121,
   "metadata": {},
   "outputs": [
    {
     "data": {
      "text/plain": [
       "array([[1.6405628e-06, 9.6050876e-01, 3.4300385e-05, 1.9208567e-02,\n",
       "        4.4039962e-07, 2.0246329e-02]], dtype=float32)"
      ]
     },
     "execution_count": 121,
     "metadata": {},
     "output_type": "execute_result"
    }
   ],
   "source": [
    "##lets do a simple model.predict to see how the numeric values of the probabilities line up \n",
    "model.predict(model_input)"
   ]
  },
  {
   "cell_type": "code",
   "execution_count": 122,
   "metadata": {},
   "outputs": [
    {
     "data": {
      "text/plain": [
       "'In'"
      ]
     },
     "execution_count": 122,
     "metadata": {},
     "output_type": "execute_result"
    }
   ],
   "source": [
    "##define our classes as an array and output the model class to get away from the probababilities to just the answer \n",
    "classes = ['Cr', 'In', 'Pa', 'PS', 'RS', 'Sc']\n",
    "class_prediction = model.predict_classes(model_input)\n",
    "classes[int(class_prediction)]\n"
   ]
  },
  {
   "cell_type": "code",
   "execution_count": 123,
   "metadata": {},
   "outputs": [
    {
     "data": {
      "text/plain": [
       "'\\nthats it! \\n\\n'"
      ]
     },
     "execution_count": 123,
     "metadata": {},
     "output_type": "execute_result"
    }
   ],
   "source": [
    "\"\"\"\n",
    "thats it! \n",
    "\n",
    "\"\"\""
   ]
  },
  {
   "cell_type": "code",
   "execution_count": null,
   "metadata": {
    "collapsed": true
   },
   "outputs": [],
   "source": []
  }
 ],
 "metadata": {
  "kernelspec": {
   "display_name": "tf1.10",
   "language": "python",
   "name": "tf1.10"
  },
  "language_info": {
   "codemirror_mode": {
    "name": "ipython",
    "version": 2
   },
   "file_extension": ".py",
   "mimetype": "text/x-python",
   "name": "python",
   "nbconvert_exporter": "python",
   "pygments_lexer": "ipython2",
   "version": "2.7.14"
  }
 },
 "nbformat": 4,
 "nbformat_minor": 2
}
